{
 "cells": [
  {
   "cell_type": "markdown",
   "metadata": {},
   "source": [
    "# Proyecto final. Optimización\n",
    "### Globally linearly convergent nonlinear conjugate gradients withoutWolfe line search\n",
    "\n",
    "+ Gonzales Valadez Ulises Aldair\n",
    "+ Segura Gómez Guillermo\n",
    "\n",
    "Seleccionar un artículo para el proyecto final.\n",
    "\n",
    "- El proyecto final se puede presentar de manera individual o en equipo \n",
    "  formado por dos estudiantes.\n",
    "- La entrega del proyecto consiste programar el algoritmo descrito \n",
    "  en el artículo seleccionado y realizar pruebas para reproducir algunos resultados\n",
    "  presentados en el artículo o diseñar los experimentos de prueba. El objetivo es\n",
    "  mostrar las ventajas o limitaciones que tiene el algoritmo propuesto.\n",
    "- Es válido delimitar el alcance, de manera que si aparecen varios algoritmos\n",
    "  en el artículo, se puede seleccionar alguno de ellos para su implementación y validación.\n",
    "- Hay que elaborar un reporte en el que se dé una introducción, \n",
    "  algunos fundamentos teóricos, el planteamiento del problema, la descripción del algoritmo, \n",
    "  los resultados obtenidos y las conclusiones.\n",
    "- Hay que hacer una presentación de unos 15 minutos en el día acordado y \n",
    "  entregar el reporte, el código y las pruebas realizadas.\n",
    "- Se puede entregar un notebook como el reporte y usarlo en la presentación,\n",
    "  para que no tener que elaborar un documento con el reporte, otro con el script \n",
    "  del código y pruebas y otro para la presentación.\n",
    "- Habrá dos fechas de entrega. La primera fecha es para los estudiantes de posgrado \n",
    "  que será entre el 27 de mayo y el 4 de junio. La segunda fecha es para los estudiantes \n",
    "  de licenciatura que será entre el 3 de junio y el 10 de junio.\n",
    "- Si el equipo está formado por un estudiante de licenciatura y otro de posgrado\n",
    "  tendrá que presentar el proyecto en la primera fecha.\n",
    "- Para la selección se puede tomar uno de los artículos de la lista \n",
    "  que se presenta a continuación. \n",
    "- Estos artículos son una referencia. También pueden proponer algún artículo adicional,\n",
    "  pero recomienda que cuiden que para entenderlo no tengan que revisar otras fuentes\n",
    "  o que tengan que implementar algoritmos que requieran de temas que no fueron cubiertos\n",
    "  en el curso y que les consuma demasiado tiempo hacer esa revisión, por ejemplo, \n",
    "  en temas de optimización combinatoria, entera, mixta, multiobjetivo, etc.\n",
    "\n",
    "1. Escriba el nombre de los miembros del equipo junto con el nombre del programa académico.\n",
    "2. Escriba el título del artículo seleccionado\n",
    "3. Si no es un artículo de la lista o que esté en el Classroom, agregue el PDF\n",
    "   como parte de la entrega de la Tarea 7.\n"
   ]
  },
  {
   "cell_type": "code",
   "execution_count": null,
   "metadata": {},
   "outputs": [],
   "source": []
  }
 ],
 "metadata": {
  "language_info": {
   "name": "python"
  }
 },
 "nbformat": 4,
 "nbformat_minor": 2
}
