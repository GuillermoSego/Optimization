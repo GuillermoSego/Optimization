{
 "cells": [
  {
   "cell_type": "markdown",
   "metadata": {},
   "source": [
    "# Tarea 9. Optimización\n",
    "Guillermo Segura Gómez"
   ]
  },
  {
   "cell_type": "markdown",
   "metadata": {},
   "source": [
    "## Ejercicio 1 \n",
    "\n",
    "Construir un clasificador binario basado en el método de regresión logística.\n",
    "Puede revisar las notas de las ayudantías 10 y 11. En particular,\n",
    "podemos tomar de referencia el artículo (minka-logreg.pdf) que aparece en la Ayudantía 10:\n",
    "\n",
    "> \"A comparison of numerical optimizers for logistic regression\". Thomas P. Minka\n",
    "\n",
    "Para usar la notación de este artículo, tenemos un conjunto de datos y cada dato\n",
    "puede pertener a una de dos clases. \n",
    "Las clases  se identifican con las etiquetas \"-1\" y \"1\". Para hacer la clasificación\n",
    "se necesita determinar un vector $\\mathbf{w}$ que se usa para\n",
    "calcular la probabilidad de que un dato $\\mathbf{x}_i \\in \\mathbb{R}^n$ \n",
    "pertenezca a la clase $y_i \\in \\{-1,1\\}$ mediante la evaluación de la función sigmoide:\n",
    "\n",
    "$$ \\sigma(\\mathbf{x}_i, y_i, \\mathbf{w}) = \\frac{1}{1 + \\exp(-y_i\\mathbf{w}^\\top\\mathbf{x}_i)}.  $$ \n",
    "\n",
    "Cada vector $\\mathbf{x}_i$ está formado por el valor de ciertas características\n",
    "asociadas el individuo $i$-ésimo.\n",
    "\n",
    "Dada una colección de datos etiquetados $(\\mathbf{x}_1, y_1), ..., (\\mathbf{x}_m, y_m)$, se \n",
    "mide el error de clasificación mediante\n",
    "\n",
    "$$ L(\\mathbf{w}) = \\sum_{i=1}^m \\log(1 + \\exp(-y_i\\mathbf{w}^\\top\\mathbf{x}_i)) \n",
    "+ \\frac{\\lambda}{2} \\mathbf{w}^\\top\\mathbf{w}.  $$ \n",
    "\n",
    "El segundo término de la expresión anterior penaliza la magnitud de la solución $\\mathbf{w}$\n",
    "dependiendo del valor de $\\lambda$.\n",
    "\n",
    "En general, los datos se almacenan en una matriz de modo de cada vector $\\mathbf{x}_i$\n",
    "es una fila de la matriz $\\mathbf{X}$ y las etiquetas $y_i$ son las componentes de un\n",
    "vector $\\mathbf{y}$:\n",
    "\n",
    "$$ \\mathbf{X} = \\left[ \\begin{array}{c} \n",
    "\\mathbf{x}_1^\\top \\\\ \n",
    "\\mathbf{x}_2^\\top \\\\ \n",
    "\\vdots \\\\\n",
    "\\mathbf{x}_m^\\top \n",
    "\\end{array} \\right], \\qquad\n",
    "\\mathbf{y} = \\left( \\begin{array}{c} \n",
    "y_1 \\\\ \n",
    "y_2 \\\\ \n",
    "\\vdots \\\\\n",
    "y_m \n",
    "\\end{array} \\right).\n",
    "$$\n",
    "\n",
    "1. Muestre que el gradiente de $L(\\mathbf{w})$ está dado por\n",
    "\n",
    "$$ \\nabla_w L(\\mathbf{w}) = - \\sum_{i=1}^m (1 - \\sigma(\\mathbf{x}_i, y_i, \\mathbf{w})) y_i\\mathbf{x}_i\n",
    "+ \\lambda \\mathbf{w}. $$\n",
    "\n",
    "---"
   ]
  },
  {
   "cell_type": "markdown",
   "metadata": {},
   "source": [
    "Para encontrar el gradiente de la función de pérdida $L(\\mathbf{w})$ comenzaremos calculando la derivada de $L(\\mathbf{w})$ con respecto a cada componente de $\\mathbf{w}$. La función $L(\\mathbf{w})$ está definida como:\n",
    "\n",
    "$$ L(\\mathbf{w}) = \\sum_{i=1}^m \\log(1 + \\exp(-y_i\\mathbf{w}^\\top\\mathbf{x}_i)) + \\frac{\\lambda}{2} \\mathbf{w}^\\top\\mathbf{w} $$\n",
    "\n",
    "La derivada de $\\log(1 + \\exp(-y_i\\mathbf{w}^\\top\\mathbf{x}_i))$ con respecto a $\\mathbf{w}$ se puede encontrar usando la regla de la cadena:\n",
    "\n",
    "$$ \\frac{\\partial}{\\partial \\mathbf{w}} \\log(1 + \\exp(-y_i\\mathbf{w}^\\top\\mathbf{x}_i)) = \\frac{1}{1 + \\exp(-y_i\\mathbf{w}^\\top\\mathbf{x}_i)} \\cdot \\exp(-y_i\\mathbf{w}^\\top\\mathbf{x}_i) \\cdot \\frac{\\partial}{\\partial \\mathbf{w}} (-y_i\\mathbf{w}^\\top\\mathbf{x}_i) $$\n",
    "\n",
    "Aquí, $\\frac{\\partial}{\\partial \\mathbf{w}} (-y_i\\mathbf{w}^\\top\\mathbf{x}_i) = -y_i\\mathbf{x}_i$ porque la derivada de $\\mathbf{w}^\\top\\mathbf{x}_i$ con respecto a $\\mathbf{w}$ es simplemente $\\mathbf{x}_i$. Sustituyendo, obtenemos:\n",
    "\n",
    "$$ \\frac{\\partial}{\\partial \\mathbf{w}} \\log(1 + \\exp(-y_i\\mathbf{w}^\\top\\mathbf{x}_i)) = \\frac{\\exp(-y_i\\mathbf{w}^\\top\\mathbf{x}_i)}{1 + \\exp(-y_i\\mathbf{w}^\\top\\mathbf{x}_i)} (-y_i\\mathbf{x}_i) = (1 - \\sigma(\\mathbf{x}_i, y_i, \\mathbf{w})) (-y_i\\mathbf{x}_i) $$\n",
    "\n",
    "Agregando el término de la suma, tenemos que por regla de derivación de una suma simplemente se deriva cada término, teniendo unicamente que colocar la suma de todos los términos para $i = 1$ a $m$:\n",
    "\n",
    "$$ -\\sum_{i=1}^m (1 - \\sigma(\\mathbf{x}_i, y_i, \\mathbf{w})) y_i\\mathbf{x}_i $$\n",
    "\n",
    "Ahora derivamos el segundo término. El segundo término $\\frac{\\lambda}{2} \\mathbf{w}^\\top\\mathbf{w}$ es más sencillo, ya que es un término cuadrático en $\\mathbf{w}$. Su gradiente es:\n",
    "\n",
    "$$ \\nabla_w \\left(\\frac{\\lambda}{2} \\mathbf{w}^\\top\\mathbf{w}\\right) = \\lambda \\mathbf{w} $$\n",
    "\n",
    "Combinando los gradientes de ambos términos, obtenemos el gradiente completo de $L(\\mathbf{w})$ como:\n",
    "\n",
    "$$ \\nabla_w L(\\mathbf{w}) = - \\sum_{i=1}^m (1 - \\sigma(\\mathbf{x}_i, y_i, \\mathbf{w})) y_i\\mathbf{x}_i + \\lambda \\mathbf{w} $$\n",
    "\n",
    "---"
   ]
  },
  {
   "cell_type": "markdown",
   "metadata": {},
   "source": [
    "2. Programar las funciones \n",
    "\n",
    "$$\\sigma(\\mathbf{X}, \\mathbf{y}, \\mathbf{w}), \\quad \n",
    "L(\\mathbf{w})\\quad \\text{y} \\quad \\nabla_w L(\\mathbf{w}).$$\n",
    "   \n",
    "- Conviene programar la función sigmoide para que pueda recibir la matriz $\\mathbf{X}$ y el vector\n",
    "  $\\mathbf{y}$, en lugar de dar un vector $\\mathbf{x}_i$ y su etiqueta $y_i$, para que\n",
    "  evalue todos los datos y devuelva un vector con probabilidades\n",
    "  \n",
    "$$ \\left( \\begin{array}{c}\n",
    "\\sigma(\\mathbf{x}_1, y_1, \\mathbf{w})  \\\\\n",
    "\\sigma(\\mathbf{x}_2, y_2, \\mathbf{w}) \\\\\n",
    "\\vdots \\\\\n",
    "\\sigma(\\mathbf{x}_m, y_m, \\mathbf{w})\n",
    "\\end{array} \\right).\n",
    "$$ \n",
    "\n",
    "- Una vez que se tiene ese vector de probabilidades, se puede calcular el gradiente\n",
    "  de $ L()$. "
   ]
  },
  {
   "cell_type": "code",
   "execution_count": 3,
   "metadata": {},
   "outputs": [],
   "source": [
    "# Librerias\n",
    "import numpy as np\n",
    "import matplotlib.pyplot as plt\n",
    "import pandas as pd\n",
    "\n",
    "from sklearn.preprocessing import StandardScaler\n",
    "# data splitting\n",
    "from sklearn.model_selection import train_test_split\n",
    "# data modeling\n",
    "from sklearn.metrics import confusion_matrix, ConfusionMatrixDisplay, accuracy_score\n",
    "from sklearn.linear_model import LogisticRegression"
   ]
  },
  {
   "cell_type": "code",
   "execution_count": 62,
   "metadata": {},
   "outputs": [],
   "source": [
    "# Función sigmoide\n",
    "def sigmoid(X, y, w):\n",
    "    return 1.0 / (1 + np.exp(-y * np.dot(X, w)))\n",
    "\n",
    "# Función L\n",
    "def L(w, args):\n",
    "    X, y, l = args\n",
    "    aux = np.sum(np.log(1 + np.exp(-y * np.dot(X, w)))) + l / 2.0 * np.dot(w, w)\n",
    "    return aux\n",
    "\n",
    "# Gradiente de L\n",
    "def gradL(w, args):\n",
    "    X, y, l = args\n",
    "    sigmoid_values = sigmoid(X, y, w)\n",
    "    aux = np.dot(X.T, (sigmoid_values - 1) * y) + l * w\n",
    "    return aux"
   ]
  },
  {
   "cell_type": "markdown",
   "metadata": {},
   "source": [
    "3. Aplique el método de descenso máximo para minimizar la función $L(\\mathbf{w})$. \n",
    "   Use backtracking para calcular el tamaño de paso $\\alpha_k$, de modo \n",
    "   $\\mathbf{w}_{k+1} = \\mathbf{w}_{k} + \\alpha_k  \\mathbf{p}_{k}$, donde\n",
    "   \n",
    "$$\\mathbf{p}_{k} = - \\mathbf{g}_{k} = -\\nabla_w L(\\mathbf{w}_k)$$\n",
    "\n",
    "---\n",
    "\n",
    "\n"
   ]
  },
  {
   "cell_type": "code",
   "execution_count": 69,
   "metadata": {},
   "outputs": [],
   "source": [
    "# Algoritmo de backtracking\n",
    "def Backtracking_DescSuf(alpha_0, rho, c1, xk, fk, gk, pk, nMax, args):\n",
    "\n",
    "    for i in range(nMax):\n",
    "\n",
    "        comp1 = fk(xk + alpha_0*pk, args)\n",
    "        comp2 = fk(xk, args) + c1*alpha_0* np.dot(gk, pk)\n",
    "\n",
    "        if (comp1 <= comp2):\n",
    "            return alpha_0, i\n",
    "\n",
    "        alpha_0 = alpha_0*rho\n",
    "\n",
    "    return alpha_0, i\n",
    "\n",
    "# Algoritmo de descenso máximo con backtracking\n",
    "def DescensoMax_Backtracking(f, gradf, x0, tau, nMax, alpha_0, rho, c1, nBack, args):\n",
    "\n",
    "    # Inicialiazacion de variables\n",
    "    xk = np.array(x0)\n",
    "    sequence = []\n",
    "\n",
    "    for k in range(nMax):\n",
    "\n",
    "        # Calcular el gradiente\n",
    "        gk = gradf(xk, args)\n",
    "        pk = -gk # Dirección del descenso\n",
    "\n",
    "        # Calcular el tamaño de paso utilizando backtracking\n",
    "        alpha_k, _ = Backtracking_DescSuf(alpha_0, rho, c1, xk, f, gk, pk, nBack, args)\n",
    "\n",
    "        # Verificar la condición de parada\n",
    "        if np.linalg.norm(alpha_k * pk) < tau:\n",
    "            return xk, gk, k, True, sequence\n",
    "        \n",
    "        # Actualizar xk para la siguiente iteración\n",
    "        xk = xk + alpha_k * pk\n",
    "\n",
    "        # Guardar la secuencia de puntos si la dimensión de x es 2\n",
    "        if len(x0) == 2:\n",
    "            sequence.append(xk.tolist())\n",
    "\n",
    "    return xk, gk, nMax, False, sequence"
   ]
  },
  {
   "cell_type": "markdown",
   "metadata": {},
   "source": [
    "Una vez que se ha calculado el minimizador $\\mathbf{w}_*$ de $L(\\mathbf{w})$\n",
    "puede usar la función $predict(\\mathbf{X}, \\mathbf{w}_*)$, codificada en la siguiente celda,\n",
    "para predecir las etiquetas de los datos que están en la matriz $\\mathbf{X}$.\n",
    "Así, esta función devuelve un vector que tiene las etiquetas $-1$ o  $1$ que se asigna\n",
    "cada dato (fila) en la matriz $\\mathbf{X}$ de acuerdo a la probabilidad que tiene ese\n",
    "dato de pertenecer a una de las clases.\n",
    "\n",
    "**Nota:**   Hay que implementar la función `sigmoid()` como se indica en el Punto 2\n",
    "para poder ejecutar la función `predict()`.\n",
    "\n",
    "La función  `predict()` es la respuesta del clasificador en cada dato de la matriz $\\mathbf{X}$."
   ]
  },
  {
   "cell_type": "code",
   "execution_count": 46,
   "metadata": {},
   "outputs": [],
   "source": [
    "# Función para predecir la clase de cada dato (fila) en la matriz X\n",
    "# Devuelve un arreglo del tamaño de la cantidad de filas de X que tiene \n",
    "# las etiquetas -1 o 1  que se predicen para cada dato.\n",
    "# Para calcular las etiquetas, se calcula el vector que tiene las probabilidades\n",
    "# de que los datos pertenezcan a la clase 1. Si la probabilidad es mayor que 0.5,\n",
    "# se asigna la clase 1. En caso contrario se asigna la clase -1.\n",
    "#\n",
    "def predict(X, w):  \n",
    "    # Vector de prediciones. Se inicializa como si todas las etiquetas fueran 1\n",
    "    y_pred = np.ones(X.shape[0])\n",
    "    # Vector de probalidades de que los datos pertenezcan a la clase 1\n",
    "    vprob  = sigmoid(X, np.ones(X.shape[0]), w)\n",
    "    # Se obtienen los índices de los datos que tienen una probabilidad menor a 0.5\n",
    "    ii     = np.where(vprob<=0.5)[0]\n",
    "    # Se cambia la etiqueta por -1 para todos los datos con probabilidad menor a 0.5\n",
    "    y_pred[ii] = -1\n",
    "    return y_pred\n"
   ]
  },
  {
   "cell_type": "markdown",
   "metadata": {},
   "source": [
    "En general, dado un conjunto de datos, se toma una parte de ellos para construir\n",
    "el clasificador. Ese subconjunto se llama el **conjunto de entrenamiento**.\n",
    "El resto de los datos se usan para evaluar el desempeño del clasificador y \n",
    "se llama el **conjunto de prueba**.\n",
    "   \n",
    "Para evaluar el desempeño del clasificador hay varias métricas.\n",
    "El código de la siguiente celda muestra:\n",
    "- Cómo leer los datos de un archivo, \n",
    "- separarlos en el conjunto de entrenamiento y validación,\n",
    "- estandarizar los datos de cada conjunto,\n",
    "- agregar una columna formada por 1's a los datos. Si no se hace esto, \n",
    "  en lugar de usar el producto $\\mathbf{w}^\\top\\mathbf{x}_i$, se tendría que \n",
    "  usar $b + \\mathbf{w}^\\top\\mathbf{x}_i$ y calcular el bias $b$ por separado.\n",
    "  Al agregar esta columna de 1's a los datos, es como equivalente a que el bias \n",
    "  $b$ forme parte del vector $\\mathbf{w}$.\n",
    "- Se calcula la matriz de confusión que en su diagonal muestra la cantidad\n",
    "  de datos en los que la predicción de la clase que hace el clasificador es correcta,\n",
    "  mientras que los elementos fuera de la diagonal son la cantidad de datos\n",
    "  mal clasificados.\n",
    "- Se evalúa la exactitud (accuracy) del clasificador. Entre más cerca esté este\n",
    "  valor a 1, es mejor el desempeño del clasificador.\n",
    "\n",
    "\n",
    "El conjunto de datos corresponde a un estudio en el que se miden 13 características\n",
    "a una muestra de 303 individuos, descritas en \n",
    "\n",
    "[Heart disease](https://archive.ics.uci.edu/dataset/45/heart+disease)\n",
    "\n",
    "Cada registro  tiene una etiqueta que indica la presencia (etiqueta 1) de una\n",
    "enfermedad del corazón, o que no la tiene (etiqueta 0). Esta última etiqueta\n",
    "la cambiamos por \"-1\" para que coincida con la notación del artículo.\n",
    "\n",
    "El objetivo es tomar una parte de los datos para crear el clasificador y medir\n",
    "el desempeño del clasificador con el resto los datos, haciendo que el clasificador\n",
    "prediga a que clase pertenece cada dato del conjunto de prueba y comparando \n",
    "las predicciones con la verdadera etiqueta.\n"
   ]
  },
  {
   "cell_type": "code",
   "execution_count": 47,
   "metadata": {},
   "outputs": [
    {
     "name": "stdout",
     "output_type": "stream",
     "text": [
      "Dimensiones de la tabla: (303, 14)\n"
     ]
    },
    {
     "data": {
      "text/html": [
       "<div>\n",
       "<style scoped>\n",
       "    .dataframe tbody tr th:only-of-type {\n",
       "        vertical-align: middle;\n",
       "    }\n",
       "\n",
       "    .dataframe tbody tr th {\n",
       "        vertical-align: top;\n",
       "    }\n",
       "\n",
       "    .dataframe thead th {\n",
       "        text-align: right;\n",
       "    }\n",
       "</style>\n",
       "<table border=\"1\" class=\"dataframe\">\n",
       "  <thead>\n",
       "    <tr style=\"text-align: right;\">\n",
       "      <th></th>\n",
       "      <th>age</th>\n",
       "      <th>sex</th>\n",
       "      <th>cp</th>\n",
       "      <th>trestbps</th>\n",
       "      <th>chol</th>\n",
       "      <th>fbs</th>\n",
       "      <th>restecg</th>\n",
       "      <th>thalach</th>\n",
       "      <th>exang</th>\n",
       "      <th>oldpeak</th>\n",
       "      <th>slope</th>\n",
       "      <th>ca</th>\n",
       "      <th>thal</th>\n",
       "      <th>target</th>\n",
       "    </tr>\n",
       "  </thead>\n",
       "  <tbody>\n",
       "    <tr>\n",
       "      <th>0</th>\n",
       "      <td>63</td>\n",
       "      <td>1</td>\n",
       "      <td>3</td>\n",
       "      <td>145</td>\n",
       "      <td>233</td>\n",
       "      <td>1</td>\n",
       "      <td>0</td>\n",
       "      <td>150</td>\n",
       "      <td>0</td>\n",
       "      <td>2.3</td>\n",
       "      <td>0</td>\n",
       "      <td>0</td>\n",
       "      <td>1</td>\n",
       "      <td>1</td>\n",
       "    </tr>\n",
       "    <tr>\n",
       "      <th>1</th>\n",
       "      <td>37</td>\n",
       "      <td>1</td>\n",
       "      <td>2</td>\n",
       "      <td>130</td>\n",
       "      <td>250</td>\n",
       "      <td>0</td>\n",
       "      <td>1</td>\n",
       "      <td>187</td>\n",
       "      <td>0</td>\n",
       "      <td>3.5</td>\n",
       "      <td>0</td>\n",
       "      <td>0</td>\n",
       "      <td>2</td>\n",
       "      <td>1</td>\n",
       "    </tr>\n",
       "    <tr>\n",
       "      <th>2</th>\n",
       "      <td>41</td>\n",
       "      <td>0</td>\n",
       "      <td>1</td>\n",
       "      <td>130</td>\n",
       "      <td>204</td>\n",
       "      <td>0</td>\n",
       "      <td>0</td>\n",
       "      <td>172</td>\n",
       "      <td>0</td>\n",
       "      <td>1.4</td>\n",
       "      <td>2</td>\n",
       "      <td>0</td>\n",
       "      <td>2</td>\n",
       "      <td>1</td>\n",
       "    </tr>\n",
       "    <tr>\n",
       "      <th>3</th>\n",
       "      <td>56</td>\n",
       "      <td>1</td>\n",
       "      <td>1</td>\n",
       "      <td>120</td>\n",
       "      <td>236</td>\n",
       "      <td>0</td>\n",
       "      <td>1</td>\n",
       "      <td>178</td>\n",
       "      <td>0</td>\n",
       "      <td>0.8</td>\n",
       "      <td>2</td>\n",
       "      <td>0</td>\n",
       "      <td>2</td>\n",
       "      <td>1</td>\n",
       "    </tr>\n",
       "    <tr>\n",
       "      <th>4</th>\n",
       "      <td>57</td>\n",
       "      <td>0</td>\n",
       "      <td>0</td>\n",
       "      <td>120</td>\n",
       "      <td>354</td>\n",
       "      <td>0</td>\n",
       "      <td>1</td>\n",
       "      <td>163</td>\n",
       "      <td>1</td>\n",
       "      <td>0.6</td>\n",
       "      <td>2</td>\n",
       "      <td>0</td>\n",
       "      <td>2</td>\n",
       "      <td>1</td>\n",
       "    </tr>\n",
       "  </tbody>\n",
       "</table>\n",
       "</div>"
      ],
      "text/plain": [
       "   age  sex  cp  trestbps  chol  fbs  restecg  thalach  exang  oldpeak  slope  \\\n",
       "0   63    1   3       145   233    1        0      150      0      2.3      0   \n",
       "1   37    1   2       130   250    0        1      187      0      3.5      0   \n",
       "2   41    0   1       130   204    0        0      172      0      1.4      2   \n",
       "3   56    1   1       120   236    0        1      178      0      0.8      2   \n",
       "4   57    0   0       120   354    0        1      163      1      0.6      2   \n",
       "\n",
       "   ca  thal  target  \n",
       "0   0     1       1  \n",
       "1   0     2       1  \n",
       "2   0     2       1  \n",
       "3   0     2       1  \n",
       "4   0     2       1  "
      ]
     },
     "execution_count": 47,
     "metadata": {},
     "output_type": "execute_result"
    }
   ],
   "source": [
    "# Lectura de los datos\n",
    "data = pd.read_csv('heart.csv')\n",
    "print('Dimensiones de la tabla:', data.shape)\n",
    "data.head()"
   ]
  },
  {
   "cell_type": "code",
   "execution_count": 48,
   "metadata": {},
   "outputs": [
    {
     "data": {
      "text/plain": [
       "target\n",
       "0    138\n",
       "1    165\n",
       "dtype: int64"
      ]
     },
     "execution_count": 48,
     "metadata": {},
     "output_type": "execute_result"
    }
   ],
   "source": [
    "# Esto muestra cuántos datos se tienen en la clase '0' y en la clase '1'\n",
    "data.groupby(['target']).size()"
   ]
  },
  {
   "cell_type": "code",
   "execution_count": 49,
   "metadata": {},
   "outputs": [
    {
     "name": "stdout",
     "output_type": "stream",
     "text": [
      "w = \n",
      "[ 0.11505553 -0.07527989 -0.86343872  0.79668329 -0.19306509 -0.24740666\n",
      " -0.13375708  0.09199133  0.5056945  -0.47893713 -0.64523259  0.13478362\n",
      " -0.88420603 -0.46002338]\n"
     ]
    }
   ],
   "source": [
    "# Cambiamos la etiqueta 0 por -1\n",
    "data.loc[data['target']==0, 'target'] = -1\n",
    "# Vector de etiquetas\n",
    "y  = data[\"target\"]\n",
    "\n",
    "# Matriz de datos\n",
    "X  = data.drop('target',axis=1)\n",
    "\n",
    "# Se usa el 20% de los datos para crear el conjunto de prueba\n",
    "X_train, X_test, y_train, y_test = train_test_split(X, y, test_size=0.20, random_state = 0)\n",
    "\n",
    "# Se estandariza cada columna de la matriz de datos para evitar que por tener diferentes \n",
    "# rangos de valores cada columna (variable), afecte al algoritmo de optimización\n",
    "scaler = StandardScaler()\n",
    "X_train = scaler.fit_transform(X_train)\n",
    "X_test = scaler.transform(X_test)\n",
    "\n",
    "# Número de muestras del conjunto de entrenamiento\n",
    "ntrain  = X_train.shape[0]\n",
    "# Se agrega una columna de 1's para que el bias b forme pare del vector w\n",
    "X_train = np.hstack((np.ones((ntrain,1)), X_train))\n",
    "\n",
    "# Número de muestras del conjunto de prueba\n",
    "ntest   = X_test.shape[0]\n",
    "# Se agrega una columna de 1's para que el bias b forme pare del vector w\n",
    "X_test  = np.hstack((np.ones((ntest,1)), X_test))\n",
    "\n",
    "# Se convierte los dataframes a una matriz de numpy\n",
    "y_train = y_train.to_numpy()\n",
    "y_test = y_test.to_numpy()\n",
    "\n",
    "# Se entrena el clasificador de regresión logística\n",
    "lr    = LogisticRegression(fit_intercept=False)\n",
    "model = lr.fit(X_train, y_train)\n",
    "\n",
    "# Imprimimos las componentes de w\n",
    "w = np.squeeze(model.coef_)\n",
    "print('w = ')\n",
    "print(w)\n",
    "\n",
    "# Se calcula las predicciones para el conjunto de prueba \n",
    "y_predict = model.predict(X_test)"
   ]
  },
  {
   "cell_type": "code",
   "execution_count": 50,
   "metadata": {},
   "outputs": [
    {
     "name": "stdout",
     "output_type": "stream",
     "text": [
      "\n",
      "Accuracy: 0.8360655737704918 \n",
      "\n"
     ]
    },
    {
     "data": {
      "text/plain": [
       "<sklearn.metrics._plot.confusion_matrix.ConfusionMatrixDisplay at 0x76056ba1c510>"
      ]
     },
     "execution_count": 50,
     "metadata": {},
     "output_type": "execute_result"
    },
    {
     "data": {
      "image/png": "[encoded data removed]",
      "text/plain": [
       "<Figure size 640x480 with 2 Axes>"
      ]
     },
     "metadata": {},
     "output_type": "display_data"
    }
   ],
   "source": [
    "# Se mide el desempeño calculando la matriz de confusión y la exactitud\n",
    "conf_matrix = confusion_matrix(y_test, y_predict)\n",
    "acc_score = accuracy_score(y_test, y_predict)\n",
    "print(\"\\nAccuracy:\", acc_score,'\\n')\n",
    "\n",
    "disp = ConfusionMatrixDisplay(confusion_matrix=conf_matrix,\n",
    "                              display_labels=model.classes_)\n",
    "disp.plot()"
   ]
  },
  {
   "cell_type": "markdown",
   "metadata": {},
   "source": [
    "4. Pruebe el algoritmo de optimización usando $\\mathbf{w}_0=(1,1,...,1)$,  el \n",
    "   número de iteraciones máximas $N=500$, la tolerancia para terminar el algoritmo \n",
    "   $\\tau = \\sqrt{ntrain}\\epsilon_m^{1/3}$ y para el algoritmo de backtracking\n",
    "   $\\rho = 0.5, c_1 = 0.001$ $N_b=500$.\n",
    "   \n",
    "   Cree un clasificador usando $\\lambda=0.001$ y otro clasificador usando $\\lambda=1.0$. \n",
    "   \n",
    "   En cada caso use la función $predict(X_{test}, w_*)$\n",
    "   para obtener el vector de predicciones de la clase para el conjunto de prueba y\n",
    "   use el código de la celda anterior para obtener la matriz de confusión y la \n",
    "   exactitud del clasificador, para ver cual de los dos tiene mejor desempeño."
   ]
  },
  {
   "cell_type": "code",
   "execution_count": 82,
   "metadata": {},
   "outputs": [
    {
     "name": "stdout",
     "output_type": "stream",
     "text": [
      "Función de costo: L(w) = log(1 + exp(-y * w^T * x)) + lambda/2 * w^T * w\n",
      "\n",
      "Resultado para x0 = [1. 1. 1. 1. 1. 1. 1. 1. 1. 1. 1. 1. 1. 1.], f(x0) = 535.6266607538867:\n",
      "Valor de lambda: 0.001\n",
      "Valor de la función de costo f(xk): 84.39743358114896\n",
      "Pesos finales (xk): [ 0.11146028 -0.06878055 -0.93338384  0.85046037 -0.20271986 -0.28170497\n",
      " -0.14977029  0.09651291  0.53730568 -0.49274109 -0.69146067  0.12941506\n",
      " -0.9394873  -0.48498579]\n",
      "Iteraciones: 33, convergio: True\n",
      "\n",
      "Accuracy: 0.8524590163934426 \n",
      "\n"
     ]
    },
    {
     "data": {
      "image/png": "[encoded data removed]",
      "text/plain": [
       "<Figure size 640x480 with 2 Axes>"
      ]
     },
     "metadata": {},
     "output_type": "display_data"
    },
    {
     "name": "stdout",
     "output_type": "stream",
     "text": [
      "Resultado para x0 = [1. 1. 1. 1. 1. 1. 1. 1. 1. 1. 1. 1. 1. 1.], f(x0) = 542.6196607538867:\n",
      "Valor de lambda: 1.0\n",
      "Valor de la función de costo f(xk): 86.22536648778903\n",
      "Pesos finales (xk): [ 0.11472699 -0.07509462 -0.86334168  0.79656229 -0.19296444 -0.24737106\n",
      " -0.13381764  0.09216653  0.50578179 -0.47868273 -0.64593182  0.13432751\n",
      " -0.88456256 -0.45990249]\n",
      "Iteraciones: 36, convergio: True\n",
      "\n",
      "Accuracy: 0.8360655737704918 \n",
      "\n"
     ]
    },
    {
     "data": {
      "image/png": "[encoded data removed]",
      "text/plain": [
       "<Figure size 640x480 with 2 Axes>"
      ]
     },
     "metadata": {},
     "output_type": "display_data"
    }
   ],
   "source": [
    "# Puntos iniciales para la función de costo\n",
    "puntos_iniciales = [np.ones(X_train.shape[1])]\n",
    "\n",
    "# Epsilon de la máquina\n",
    "epsilon_m = np.finfo(float).eps\n",
    "\n",
    "# Configuración de tolerancia\n",
    "tau = lambda n: np.sqrt(n) * epsilon_m**(1/3)\n",
    "\n",
    "# Parámetros iniciales\n",
    "alpha_0 = 1\n",
    "rho = 0.5\n",
    "c1 = 0.001\n",
    "\n",
    "# Número máximo de iteraciones para el descenso máximo y backtracking\n",
    "NMax = 500\n",
    "NBack = 500\n",
    "\n",
    "# Valor de lambda\n",
    "l = [0.001, 1.0]\n",
    "\n",
    "\n",
    "# Función para probar el algoritmo de newton con diferentes funciones\n",
    "def probar_algoritmo(func, grad_func, puntos_iniciales, lambda_values):\n",
    "    for l in lambda_values:\n",
    "\n",
    "        # Definimos los argumentos para la función de costo\n",
    "        args = (X_train, y_train, l)\n",
    "\n",
    "        for x0 in puntos_iniciales:\n",
    "            xk, gk, k, convergio, secuencia = DescensoMax_Backtracking(func, grad_func, x0, tau(len(x0)), NMax, alpha_0, rho, c1, NBack, args)\n",
    "            valor_final = func(xk, args)\n",
    "            print(f\"Resultado para x0 = {x0}, f(x0) = {func(x0, args)}:\")\n",
    "            print(f\"Valor de lambda: {l}\")\n",
    "            print(f\"Valor de la función de costo f(xk): {valor_final}\")\n",
    "            print(f\"Pesos finales (xk): {xk}\")\n",
    "            print(f\"Iteraciones: {k}, convergio: {convergio}\")   \n",
    "\n",
    "            # Realizar la predicción con los pesos obtenidos\n",
    "            y_predict = predict(X_test, xk)\n",
    "\n",
    "            # Se mide el desempeño calculando la matriz de confusión y la exactitud\n",
    "            conf_matrix = confusion_matrix(y_test, y_predict)\n",
    "            acc_score = accuracy_score(y_test, y_predict)\n",
    "            print(\"\\nAccuracy:\", acc_score,'\\n')\n",
    "            \n",
    "            disp = ConfusionMatrixDisplay(confusion_matrix=conf_matrix,\n",
    "                                          display_labels=model.classes_)\n",
    "\n",
    "            disp.plot()\n",
    "            plt.show()\n",
    "\n",
    "\n",
    "# Crear diferentes clasificadores con diferentes lambdas\n",
    "print(\"Función de costo: L(w) = log(1 + exp(-y * w^T * x)) + lambda/2 * w^T * w\\n\")\n",
    "probar_algoritmo(L, gradL, puntos_iniciales, l)"
   ]
  },
  {
   "cell_type": "markdown",
   "metadata": {},
   "source": [
    "Fue un mucho mejor clasificador el que se construyo con $\\lambda = 0.001$. Este valor peque;o de $\\lambda$ indica que la contribucion del termino de regularizacion menor es la mas optima para fines del modelo. Esto quiere decir que no hay mucho sobreajuste con este modelo de regresion logistica."
   ]
  },
  {
   "cell_type": "markdown",
   "metadata": {},
   "source": [
    "## Ejercicio 2\n",
    "\n",
    "Usando el método de Gauss-Newton (Algoritmo 1 de la Clase 26) ajustar el modelo \n",
    "\n",
    "$$ h(t; N_{max}, r, t_0) = \\frac{N_{max}}{1 + \\exp(-r(t - t_0))}.  $$\n",
    "\n",
    "La variable $t$ representa el tiempo. Los parámetros del modelo son $N_{max}, r, t_0$.\n",
    "\n",
    "Considere el conjunto de datos $\\{(t_1, y_1), (t_2, y_2), ..., (t_m, y_m) \\}$ que generaron en la Ayudantía 12.\n",
    "\n",
    "Los datos están almacenados los vectores $\\mathbf{T}$ y $\\mathbf{Y}$:\n",
    "\n",
    "$$\n",
    "\\mathbf{T} = \\left( \\begin{array}{c} t_1 \\\\ t_2 \\\\ \\vdots \\\\ t_m \\end{array} \\right), \\qquad\n",
    "\\mathbf{Y} = \\left( \\begin{array}{c} y_1 \\\\ y_2 \\\\ \\vdots \\\\ y_m \\end{array} \\right).\n",
    "$$"
   ]
  },
  {
   "cell_type": "code",
   "execution_count": 83,
   "metadata": {},
   "outputs": [
    {
     "data": {
      "text/plain": [
       "[<matplotlib.lines.Line2D at 0x760569629b10>]"
      ]
     },
     "execution_count": 83,
     "metadata": {},
     "output_type": "execute_result"
    },
    {
     "data": {
      "image/png": "[encoded data removed]",
      "text/plain": [
       "<Figure size 640x480 with 1 Axes>"
      ]
     },
     "metadata": {},
     "output_type": "display_data"
    }
   ],
   "source": [
    "def fnc_h(t, N_max, r, t0):\n",
    "    return N_max / (1 + np.exp(-r * (t - t0)))\n",
    "\n",
    "m = 500\n",
    "rnd_scale = 5e2\n",
    "params_hat = (N_max_hat, r_hat, t0_hat) = (1e4, 0.1, 5)\n",
    "T = np.linspace(0, 100, m)\n",
    "Y = fnc_h(T, *params_hat) + rnd_scale * np.random.randn(m)\n",
    "\n",
    "plt.plot(T, Y, 'o', markersize=2)\n",
    "plt.plot(T, fnc_h(T, *params_hat), 'r')"
   ]
  },
  {
   "cell_type": "markdown",
   "metadata": {},
   "source": [
    "Para resolver el problema de mínimos cuadrados no lineales hay \n",
    "que definir los residuales como la diferencia entre los que predice\n",
    "el modelo $ h(t_i; N_{max}, r, t_0)$ y el valor observado $y_i$:\n",
    "\n",
    "$$ r_i(N_{max}, r, t_0) = h(t_i; N_{max}, r, t_0) - y_i, \\quad i=1,2,...,m. $$\n",
    "\n",
    "Si definimos  $\\mathbf{z} = (N_{max}, r, t_0)$ , la función de residuales está dada por\n",
    "\n",
    "$$ \\mathbf{R}(\\mathbf{z}) = \\left( \\begin{array}{c}\n",
    "          r_{1}(\\mathbf{z}) \\\\\n",
    "          r_{2}(\\mathbf{z}) \\\\\n",
    "          \\vdots \\\\\n",
    "          r_{m}(\\mathbf{z}) \\\\\n",
    "\\end{array} \\right). $$\n",
    "\n",
    "Hay que calcular los parámetros $\\mathbf{z} = (N_{max}, r, t_0)$ resolviendo el problema\n",
    "de mínimos cuadrados no lineales.\n",
    "\n",
    "$$ \\min_{z} \\; f(\\mathbf{z}) = \\frac{1}{2}\\sum_{i=1}^m r_i^2(\\mathbf{z}) \n",
    "=  \\frac{1}{2} \\left[ \\mathbf{R}(\\mathbf{z}) \\right]^\\top  \\mathbf{R}(\\mathbf{z}). $$\n",
    "\n",
    "1. Programe el método de Gauss-Newton de acuerdo con Algoritmo 1 de la Clase 26.\n",
    "   Haga que la función devuelva el último punto $\\mathbf{z}_k$, \n",
    "   el vector $\\mathbf{p}_k$ y el número de iteraciones $k$ realizadas.\n",
    "\n",
    "   "
   ]
  },
  {
   "cell_type": "code",
   "execution_count": 86,
   "metadata": {},
   "outputs": [],
   "source": [
    "# Algoritmo de Gauss-Newton con tamaño de paso\n",
    "def GaussNewton(f, fRess, Jac, x0, nMax, tau, rho, c1, nBack):\n",
    "\n",
    "    # Inicialiazacion de variables\n",
    "    xk = np.array(x0)\n",
    "    sequence = []\n",
    "\n",
    "    for k in range(nMax):\n",
    "        \n",
    "        # Calculamos Rk\n",
    "        Rk = fRess(xk)\n",
    "\n",
    "        # Calculamos el jacobiano\n",
    "        Jk = Jac(xk)\n",
    "\n",
    "        # Calculamos la funcion en el punto xk\n",
    "        fk = f(xk)\n",
    "\n",
    "        # Gradiente\n",
    "        gk = np.dot(Jk.T, Rk)\n",
    "\n",
    "        # Calculamos la direccion de descenso pk resolviendo Jk.T * Jk * pk = -gk\n",
    "        pk = np.linalg.solve(np.dot(Jk.T, Jk), -gk)\n",
    "\n",
    "        # Calculamos el tamaño de paso utilizando backtracking\n",
    "        alpha_k, _ = Backtracking_DescSuf(1, rho, c1, xk, f, gk, pk, nBack, None)\n",
    "\n",
    "        # Verificar la condición de parada\n",
    "        if np.linalg.norm(alpha_k * pk) < tau:\n",
    "            return xk, gk, k, True, sequence\n",
    "        \n",
    "        # Actualizar xk para la siguiente iteración\n",
    "        xk = xk + alpha_k * pk\n",
    "\n",
    "        # Guardar la secuencia de puntos si la dimensión de x es 2\n",
    "        if len(x0) == 2:\n",
    "            sequence.append(xk.tolist())\n",
    "\n",
    "    return xk, gk, nMax, False, sequence\n",
    "    "
   ]
  },
  {
   "cell_type": "markdown",
   "metadata": {},
   "source": [
    "2. Programe las funciones  $\\mathbf{R}(\\mathbf{z})$, $f(\\mathbf{z})$ y \n",
    "   la función que calcula matriz Jacobiana $\\mathbf{J}(\\mathbf{z})$ de $\\mathbf{R}(\\mathbf{z})$\n",
    "   para el modelo $h(t_i; N_{max}, r, t_0)$."
   ]
  },
  {
   "cell_type": "code",
   "execution_count": 87,
   "metadata": {},
   "outputs": [],
   "source": [
    "# Funcion R(z)\n",
    "def R(z):\n",
    "    N, r, t0 = z\n",
    "    return fnc_h(T, N, r, t0) - Y\n",
    "\n",
    "# Jacobiano de R(z)\n",
    "def Jac(z):\n",
    "    N, r, t0 = z\n",
    "    J = np.zeros((m, 3))\n",
    "    J[:, 0] = 1 / (1 + np.exp(-r * (T - t0)))\n",
    "    J[:, 1] = N * (T - t0) / (1 + np.exp(-r * (T - t0)))\n",
    "    J[:, 2] = -N * r / (1 + np.exp(-r * (T - t0)))\n",
    "    return J"
   ]
  },
  {
   "cell_type": "markdown",
   "metadata": {},
   "source": [
    "3. Aplique el método de Gauss-Newton partiendo del punto inicial\n",
    "   $\\mathbf{z}_0 = (1000, 0.2, 0)$, una tolerancia $\\tau=\\epsilon_m^{1/3}$\n",
    "   \n",
    "   Imprima el punto $\\mathbf{z}_k$ que devuelve el algoritmo, el valor \n",
    "   $f(\\mathbf{z}_k)$, el número de iteraciones $k$ realizadas y la norma de $\\mathbf{p}_k$.\n",
    "   \n",
    "4. Grafique los datos y la curva del modelo usando los valores del punto inicial\n",
    "   $\\mathbf{z}_0$ y del punto $\\mathbf{z}_k$ que devuelve el algoritmo, como lo hicieron en \n",
    "   la ayudantía."
   ]
  },
  {
   "cell_type": "markdown",
   "metadata": {},
   "source": []
  }
 ],
 "metadata": {
  "kernelspec": {
   "display_name": "Opti",
   "language": "python",
   "name": "python3"
  },
  "language_info": {
   "codemirror_mode": {
    "name": "ipython",
    "version": 3
   },
   "file_extension": ".py",
   "mimetype": "text/x-python",
   "name": "python",
   "nbconvert_exporter": "python",
   "pygments_lexer": "ipython3",
   "version": "3.11.8"
  }
 },
 "nbformat": 4,
 "nbformat_minor": 2
}
