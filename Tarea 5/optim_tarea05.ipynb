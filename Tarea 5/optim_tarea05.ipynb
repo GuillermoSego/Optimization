{
 "cells": [
  {
   "cell_type": "markdown",
   "id": "2ca929c9-5ef1-4bbd-80b0-d655c1d97f52",
   "metadata": {},
   "source": [
    "# Curso de Optimización I (DEMAT/CIMAT)\n",
    "# Tarea 5\n",
    "\n",
    "| Descripción:                         | Fechas                  |\n",
    "|--------------------------------------|-------------------------|\n",
    "| Fecha de publicación del documento:  | **Febrero 28, 2024**    |\n",
    "| Fecha límite de entrega de la tarea: | **Marzo    6, 2024**    |"
   ]
  },
  {
   "cell_type": "markdown",
   "id": "66ca9b3a-403f-48ed-96a4-86770a6a5451",
   "metadata": {},
   "source": [
    "## Indicaciones\n",
    "\n",
    "Para los ejercicios teóricos puede escribir en la celda la solución, o\n",
    "si escribio la solución en una hoja, puede insertar una(s) foto(s) en la que\n",
    "se vea clara la solución. Si prefiere insertar las imágenes en un procesador\n",
    "de texto como Word, lo puede utilizar y exportar el documento a PDF y subir\n",
    "el archivo. No lo compacte para que se pueda escribir anotaciones en el PDF.\n",
    "\n",
    "Para los ejercicios de programación:\n",
    "- Puede escribir las funciones que se piden en las celdas del notebook.\n",
    "- Si se requieren otros archivos para poder reproducir los resultados,\n",
    "  para mandar la tarea cree un archivo ZIP en el que incluya\n",
    "  el notebook y los archivos adicionales. \n",
    "- Si todos los códigos para que se requieren para reproducir los\n",
    "  resultados están en el notebook, no hace falta comprimir el notebook \n",
    "  y puede anexar este archivo en la tarea del Classroom.\n",
    "\n",
    "Al finalizar exporte el notebook a PDF y suba este archivo en la tarea del\n",
    "Classroom como un archivo independiente.\n",
    "\n",
    "**No incluya el PDF dentro del ZIP**, porque la idea que lo pueda accesar \n",
    "directamente para poner anotaciones y la calificación de cada ejercicio.\n",
    "\n",
    "---"
   ]
  },
  {
   "cell_type": "markdown",
   "id": "b2b221b7-7197-4722-aae3-f4d99bf46324",
   "metadata": {},
   "source": [
    "## Ejercicio 1 (2.5 puntos)\n",
    "\n",
    "1. Encuentre y clasifique los puntos estacionarios para la función\n",
    "\n",
    "$$ f(\\mathbf{x}) = x_1^2 - x_2^2 + x_3^2 - 2x_1x_3 - x_2x_3 + 4x_1 + 12. $$\n",
    "\n",
    "2. Sea $\\mathbf{x}_0 = (1,0,0)^\\top$. Calcule el punto $\\mathbf{x}_1$ \n",
    "   usando la dirección de descenso máximo con paso exacto.\n",
    "\n",
    "\n",
    "### Solución:"
   ]
  },
  {
   "cell_type": "code",
   "execution_count": null,
   "id": "9fc48554-0569-4e07-9dee-da87f194c04c",
   "metadata": {},
   "outputs": [],
   "source": [
    "\n",
    "\n",
    "\n",
    "\n",
    "\n"
   ]
  },
  {
   "cell_type": "markdown",
   "id": "47dac189-cc83-4360-b9ad-408b8b0c4329",
   "metadata": {},
   "source": [
    "_\n",
    "\n",
    "```\n",
    "\n",
    "\n",
    "\n",
    "\n",
    "\n",
    "\n",
    "\n",
    "```\n",
    "\n",
    "---"
   ]
  },
  {
   "cell_type": "markdown",
   "id": "d02b0a9e-6c12-4263-86a3-79bdd8a02729",
   "metadata": {},
   "source": [
    "## Ejercicio 2 (2.5 puntos)\n",
    "\n",
    "Considere la función\n",
    "\n",
    "$$ f(\\mathbf{x}) = 2x_1^2 + x_2^2 - 2x_1x_2 + 2x_1^3 + x_1^4 $$\n",
    "\n",
    "Sea $\\mathbf{x}_0 = (0,1)^\\top$\n",
    "\n",
    "1. Aplique un paso del método de Newton a partir del punto si la Hessiana\n",
    "   en $\\mathbf{x}_0$ es definida positiva. Si no, aplique el algoritmo \n",
    "   de descenso máximo con un tamaño de paso apropiado.\n",
    "2. Calcule el cambio de la función objetivo: $f(\\mathbf{x}_1) - f(\\mathbf{x}_0)$.\n",
    "\n",
    "### Solución:"
   ]
  },
  {
   "cell_type": "code",
   "execution_count": null,
   "id": "692dd1df-9205-4f75-8cac-a444fe959809",
   "metadata": {},
   "outputs": [],
   "source": [
    "\n",
    "\n",
    "\n",
    "\n"
   ]
  },
  {
   "cell_type": "markdown",
   "id": "321bddeb-6fe1-4918-a7e3-9cd9f05874a8",
   "metadata": {},
   "source": [
    "_\n",
    "\n",
    "```\n",
    "\n",
    "\n",
    "\n",
    "\n",
    "\n",
    "\n",
    "\n",
    "```\n",
    "\n",
    "---"
   ]
  },
  {
   "cell_type": "markdown",
   "id": "8fb5206b-4470-4aa0-9aea-1818088f29af",
   "metadata": {},
   "source": [
    "## Ejercicio 3 (2 puntos)\n",
    "\n",
    "Supongamos que $f_1, f_2: \\mathbb{R}^n \\rightarrow \\mathbb{R}$ son funciones convexas.\n",
    "   \n",
    "1. Muestre que también es convexa la función $f(\\mathbf{x})$ \n",
    "   definida como\n",
    "   \n",
    "$$ f(\\mathbf{x}) = \\max\\{f_1(\\mathbf{x}), f_2(\\mathbf{x}) \\}. $$\n",
    "\n",
    "2. Si $n=1$ y $f_1(-0.4) = 0.36$,\n",
    "   $f_1(0.6) = 2.56$, $f_2(-0.4) = 3.66$ y $f_2(1) = 2$, identifique \n",
    "   el intervalo más pequeño en el que se puede garantizar que se \n",
    "   encuentra el minimizador de la función $f(x)$. \n",
    "   Explique su respuesta.\n",
    "\n",
    "### Solución:"
   ]
  },
  {
   "cell_type": "markdown",
   "id": "9f34f3b4-14fc-4920-b205-1f93a882d004",
   "metadata": {},
   "source": [
    "_\n",
    "\n",
    "```\n",
    "\n",
    "\n",
    "\n",
    "\n",
    "\n",
    "\n",
    "\n",
    "```\n",
    "\n",
    "---"
   ]
  },
  {
   "cell_type": "markdown",
   "id": "b9a881bc-f0bd-4b23-aaa2-f8fe495f16c4",
   "metadata": {},
   "source": [
    "## Ejercicio 4 (3 puntos)\n",
    "\n",
    "Programe el método de región de confianza (MRC) que usa como \n",
    "aproximación del subproblema de optimización al punto de Cauchy,\n",
    "descrito en la Clase 13 en el Algoritmo 3.\n",
    "\n",
    "\n",
    "1. Si la dimensión $n$ de la variable $\\mathbf{x}$ es 2, en \n",
    "   la función que implementa el algoritmo se crea un arreglo $\\mathbf{M}$  \n",
    "   en el que se guarda los puntos $\\mathbf{x}_0, \\mathbf{x}_1,\n",
    "   ..., \\mathbf{x}_k$ generados. Si $n>2$, definir $\\mathbf{M}$ como $None$.\n",
    "\n",
    "   La función debe devolver el último valor $k$, $\\mathbf{x}_k$, \n",
    "   $\\mathbf{g}_k$ y  $\\mathbf{M}$.\n",
    "\n",
    "2. Pruebe el algoritmo en la siguientes funciones, fijando \n",
    "   la cantidad de iteraciones máximas $N=50000$, $\\Delta_{\\min}=10^{-5}$, $\\eta=0.25$\n",
    "   y la tolerancia \n",
    "   $\\tau = \\sqrt{n\\epsilon_m}$, donde $\\epsilon_m$ es el épsilon de máquina,\n",
    "   excepto para la función Hartmann para la cual es mejor usar una tolerancia más \n",
    "   grande, como $\\tau = \\sqrt{n}\\epsilon_m^{1/3}$.\n",
    "   Use los puntos iniciales siguientes y pruebe dos valores para el radio de \n",
    "   la región de confianza $\\Delta_{\\max}=4$ y $\\Delta_{\\max}=0.25$.\n",
    "   \n",
    "\n",
    "**Función de Himmelblau** \n",
    "- $\\mathbf{x}_0 = (2,4)$\n",
    "\n",
    "\n",
    "**Función de Beale**\n",
    "- $\\mathbf{x}_0 = (2,3)$  \n",
    "\n",
    "\n",
    "**Función de Rosenbrock**\n",
    "- $\\mathbf{x}_0 = (-1.2, 1.0)\\in \\mathbb{R}^{2}$  \n",
    "- $\\mathbf{x}_0 = (-1.2, 1.0, ..., -1.2, 1.0) \\in \\mathbb{R}^{10}$  \n",
    "- $\\mathbf{x}_0 = (-1.2, 1.0, ..., -1.2, 1.0) \\in \\mathbb{R}^{20}$ \n",
    "\n",
    "\n",
    "**Función de Hartmann de dimensión 6**\n",
    "- $\\mathbf{x}_0 = (0,0,0,0,0,0)$ \n",
    "\n",
    "\n",
    "En cada caso imprima los resultados:\n",
    "- El número de iteraciones realizadas $k$\n",
    "- El punto $\\mathbf{x}_k$ obtenido\n",
    "- $f(\\mathbf{x}_k)$\n",
    "- $\\|\\nabla f(\\mathbf{x}_k)\\|$\n",
    "- La variable que indica si el algoritmo terminó porque se cumplió el criterio de paro o no.\n",
    "- Si $n=2$, genere la gráfica de los contornos de nivel de la función y la trayectoria\n",
    "  de los puntos $\\mathbf{x}_0, \\mathbf{x}_1, ..., \\mathbf{x}_k$.\n",
    "  \n",
    "  \n",
    "### Solución:"
   ]
  },
  {
   "cell_type": "code",
   "execution_count": null,
   "id": "50363a54-f6c1-4aae-9b2b-e489b5001a5c",
   "metadata": {},
   "outputs": [],
   "source": [
    "\n",
    "\n",
    "\n",
    "\n",
    "\n"
   ]
  }
 ],
 "metadata": {
  "kernelspec": {
   "display_name": "Python 3 (ipykernel)",
   "language": "python",
   "name": "python3"
  },
  "language_info": {
   "codemirror_mode": {
    "name": "ipython",
    "version": 3
   },
   "file_extension": ".py",
   "mimetype": "text/x-python",
   "name": "python",
   "nbconvert_exporter": "python",
   "pygments_lexer": "ipython3",
   "version": "3.10.9"
  }
 },
 "nbformat": 4,
 "nbformat_minor": 5
}
